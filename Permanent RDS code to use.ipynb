{
 "cells": [
  {
   "cell_type": "code",
   "execution_count": null,
   "metadata": {},
   "outputs": [],
   "source": []
  },
  {
   "cell_type": "code",
   "execution_count": 3,
   "metadata": {},
   "outputs": [],
   "source": [
    "import numpy as np\n",
    "import xlrd\n",
    "import matplotlib.pyplot as plt\n",
    "import freud.box\n",
    "from freud import parallel, box, density\n",
    "import random\n",
    "parallel.setNumThreads(4)\n",
    "%matplotlib inline"
   ]
  },
  {
   "cell_type": "code",
   "execution_count": 117,
   "metadata": {},
   "outputs": [],
   "source": [
    "rdf = density.RDF(rmax=2.0, dr=0.025)\n",
    "fbox = freud.box.Box.square(L=4.0)\n",
    "sample_data = xlrd.open_workbook('M107 RDS.xlsx')\n",
    "for i in range(1):\n",
    "    sheet = sample_data.sheet_by_index(i)\n",
    "    coordinate_array = [[sheet.cell_value(r,c) for c in range(sheet.ncols)] for r in range(sheet.nrows)]\n",
    "    coordinates = np.array(coordinate_array)\n",
    "    rdf.accumulate(fbox, coordinates, coordinates)\n"
   ]
  },
  {
   "cell_type": "code",
   "execution_count": null,
   "metadata": {},
   "outputs": [],
   "source": []
  },
  {
   "cell_type": "code",
   "execution_count": 118,
   "metadata": {},
   "outputs": [
    {
     "name": "stderr",
     "output_type": "stream",
     "text": [
      "/opt/conda/lib/python3.6/site-packages/ipykernel_launcher.py:5: FreudDeprecationWarning: The getR function is deprecated in favor of the R class attribute and will be removed in a future version of freud.\n",
      "  \"\"\"\n",
      "/opt/conda/lib/python3.6/site-packages/ipykernel_launcher.py:7: FreudDeprecationWarning: The getRDF function is deprecated in favor of the RDF class attribute and will be removed in a future version of freud.\n",
      "  import sys\n"
     ]
    },
    {
     "name": "stdout",
     "output_type": "stream",
     "text": [
      "0.06333334 19.817719\n"
     ]
    },
    {
     "data": {
      "image/png": "[encoded data removed]",
      "text/plain": [
       "<Figure size 432x288 with 1 Axes>"
      ]
     },
     "metadata": {},
     "output_type": "display_data"
    }
   ],
   "source": [
    "# Create RDF object setting max distance (half a box lenght) and bin 'width'\n",
    "# Calculate RDF with box + points\n",
    "rdf.compute(fbox, coordinates, coordinates)\n",
    "# get the center of the histogram bins\n",
    "r = rdf.getR()\n",
    "# get the value of the histogram bins\n",
    "y = rdf.getRDF()\n",
    "# plot\n",
    "plt.scatter(r, y)\n",
    "plt.ylabel(\"g(r)\")\n",
    "plt.xlabel(\"r\")\n",
    "plt.xlim(0,2)\n",
    "max_y = max(y)\n",
    "max_r = r[y.argmax()]\n",
    "print(max_r, max_y)"
   ]
  },
  {
   "cell_type": "code",
   "execution_count": 135,
   "metadata": {},
   "outputs": [
    {
     "name": "stdout",
     "output_type": "stream",
     "text": [
      "[0.01666667 0.03888889 0.06333334 0.08809523 0.11296298 0.1378788\n",
      " 0.16282053 0.18777773 0.21274514 0.2377193  0.26269844 0.28768122\n",
      " 0.3126666  0.33765444 0.3626436  0.3876343  0.41262636 0.43761918\n",
      " 0.46261263 0.48760682 0.5126017  0.537597   0.5625925  0.58758885\n",
      " 0.6125849  0.6375815  0.66257906 0.6875759  0.71257293 0.7375706\n",
      " 0.7625687  0.7875653  0.8125645  0.837562   0.86256075 0.8875589\n",
      " 0.9125572  0.9375555  0.96255374 0.9875532  1.0125517  1.0375501\n",
      " 1.0625492  1.0875481  1.1125466  1.1375458  1.1625447  1.1875448\n",
      " 1.2125424  1.237542   1.262541   1.2875398  1.3125402  1.3375401\n",
      " 1.3625375  1.3875388  1.4125371  1.4375353  1.4625355  1.4875349\n",
      " 1.5125339  1.5375359  1.5625327  1.5875304  1.6125344  1.6375314\n",
      " 1.6625317  1.6875298  1.7125313  1.7375306  1.7625275  1.7875319\n",
      " 1.8125306  1.8375269  1.8625274  1.887528   1.9125266  1.937526\n",
      " 1.9625283  1.9875259 ]\n",
      "[0.00000000e+00 1.11257372e+01 1.98177185e+01 1.51240463e+01\n",
      " 1.29220819e+01 1.36543102e+01 1.48432341e+01 1.32813425e+01\n",
      " 1.44798183e+01 1.08146582e+01 1.26157885e+01 9.27396679e+00\n",
      " 1.09101706e+01 9.23282433e+00 9.24347115e+00 8.68076038e+00\n",
      " 8.59716320e+00 7.80787992e+00 8.37250042e+00 7.16754007e+00\n",
      " 6.84333181e+00 6.18546629e+00 6.25823021e+00 5.69232035e+00\n",
      " 6.16244030e+00 5.21518230e+00 5.35295200e+00 4.53247929e+00\n",
      " 4.31853437e+00 3.58876204e+00 3.48818851e+00 2.78143382e+00\n",
      " 3.04888606e+00 2.17947865e+00 2.17677593e+00 1.61597192e+00\n",
      " 1.35737896e+00 1.11257505e+00 7.99209416e-01 5.41324079e-01\n",
      " 4.24941599e-01 2.76466608e-01 2.20879003e-01 1.19889557e-01\n",
      " 1.17195345e-01 8.02336931e-02 2.24308707e-02 1.09793600e-02\n",
      " 1.07529750e-02 0.00000000e+00 0.00000000e+00 0.00000000e+00\n",
      " 0.00000000e+00 0.00000000e+00 0.00000000e+00 0.00000000e+00\n",
      " 0.00000000e+00 0.00000000e+00 0.00000000e+00 0.00000000e+00\n",
      " 0.00000000e+00 0.00000000e+00 0.00000000e+00 0.00000000e+00\n",
      " 0.00000000e+00 0.00000000e+00 0.00000000e+00 0.00000000e+00\n",
      " 0.00000000e+00 0.00000000e+00 0.00000000e+00 0.00000000e+00\n",
      " 0.00000000e+00 0.00000000e+00 0.00000000e+00 0.00000000e+00\n",
      " 0.00000000e+00 0.00000000e+00 0.00000000e+00 0.00000000e+00]\n"
     ]
    }
   ],
   "source": [
    "print(r)\n",
    "print(y)\n"
   ]
  },
  {
   "cell_type": "code",
   "execution_count": null,
   "metadata": {},
   "outputs": [],
   "source": []
  }
 ],
 "metadata": {
  "kernelspec": {
   "display_name": "Python 3",
   "language": "python",
   "name": "python3"
  },
  "language_info": {
   "codemirror_mode": {
    "name": "ipython",
    "version": 3
   },
   "file_extension": ".py",
   "mimetype": "text/x-python",
   "name": "python",
   "nbconvert_exporter": "python",
   "pygments_lexer": "ipython3",
   "version": "3.6.4"
  }
 },
 "nbformat": 4,
 "nbformat_minor": 2
}
