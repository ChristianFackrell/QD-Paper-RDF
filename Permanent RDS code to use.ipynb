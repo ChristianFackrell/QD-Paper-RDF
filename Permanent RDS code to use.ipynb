{
 "cells": [
  {
   "cell_type": "code",
   "execution_count": 2,
   "metadata": {},
   "outputs": [],
   "source": [
    "import numpy as np\n",
    "import xlrd\n",
    "import matplotlib.pyplot as plt\n",
    "import freud.box\n",
    "from freud import parallel, box, density\n",
    "parallel.setNumThreads(4)\n",
    "%matplotlib inline"
   ]
  },
  {
   "cell_type": "code",
   "execution_count": 18,
   "metadata": {},
   "outputs": [
    {
     "data": {
      "text/plain": [
       "'0.8.2'"
      ]
     },
     "execution_count": 18,
     "metadata": {},
     "output_type": "execute_result"
    }
   ],
   "source": [
    "freud.__version__"
   ]
  },
  {
   "cell_type": "code",
   "execution_count": 19,
   "metadata": {},
   "outputs": [
    {
     "data": {
      "text/plain": [
       "Text(0.5, 0, 'r')"
      ]
     },
     "execution_count": 19,
     "metadata": {},
     "output_type": "execute_result"
    },
    {
     "data": {
      "image/png": "[encoded data removed]",
      "text/plain": [
       "<Figure size 432x288 with 1 Axes>"
      ]
     },
     "metadata": {
      "needs_background": "light"
     },
     "output_type": "display_data"
    }
   ],
   "source": [
    "rdf = density.RDF(rmax=1.0, dr=0.05)# 1micron image min??\n",
    "fbox = freud.box.Box.square(L=2.0)#distances in microns\n",
    "fbox.periodic = (False, False,False)\n",
    "#fbox.periodic  = (True,True,True)\n",
    "sample_data = xlrd.open_workbook('M87.011.xlsx')\n",
    "for i in range(14):\n",
    "    sheet = sample_data.sheet_by_index(i)\n",
    "    coordinate_array = [[sheet.cell_value(r,c) for c in range(sheet.ncols)] for r in range(sheet.nrows)]\n",
    "    coordinates = np.array(coordinate_array)\n",
    "    #print(coordinates.max())\n",
    "    rdf.accumulate(fbox, coordinates, coordinates)#make sure per image.\n",
    "rdf.compute(fbox, coordinates, coordinates)\n",
    "r = rdf.R\n",
    "y = rdf.RDF\n",
    "plt.scatter(rdf.R, rdf.RDF)\n",
    "plt.ylabel(\"g(r)\")\n",
    "plt.xlabel(\"r\")\n"
   ]
  },
  {
   "cell_type": "code",
   "execution_count": null,
   "metadata": {},
   "outputs": [],
   "source": []
  },
  {
   "cell_type": "code",
   "execution_count": null,
   "metadata": {},
   "outputs": [],
   "source": []
  }
 ],
 "metadata": {
  "kernelspec": {
   "display_name": "Python 3",
   "language": "python",
   "name": "python3"
  },
  "language_info": {
   "codemirror_mode": {
    "name": "ipython",
    "version": 3
   },
   "file_extension": ".py",
   "mimetype": "text/x-python",
   "name": "python",
   "nbconvert_exporter": "python",
   "pygments_lexer": "ipython3",
   "version": "3.6.12"
  }
 },
 "nbformat": 4,
 "nbformat_minor": 2
}
