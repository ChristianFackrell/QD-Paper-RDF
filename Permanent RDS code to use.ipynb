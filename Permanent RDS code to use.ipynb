{
 "cells": [
  {
   "cell_type": "code",
   "execution_count": null,
   "metadata": {},
   "outputs": [],
   "source": []
  },
  {
   "cell_type": "code",
   "execution_count": null,
   "metadata": {},
   "outputs": [],
   "source": [
    "import numpy as np\n",
    "import xlrd\n",
    "import matplotlib.pyplot as plt\n",
    "import freud.box\n",
    "from freud import parallel, box, density\n",
    "import random\n",
    "parallel.setNumThreads(4)\n",
    "%matplotlib inline"
   ]
  },
  {
   "cell_type": "code",
   "execution_count": null,
   "metadata": {},
   "outputs": [],
   "source": [
    "rdf = density.RDF(rmax=2.0, dr=0.025)\n",
    "fbox = freud.box.Box.square(L=5.0)\n",
    "sample_data = xlrd.open_workbook('M87.011.xlsx')\n",
    "for i in range(14):\n",
    "    sheet = sample_data.sheet_by_index(i)\n",
    "    coordinate_array = [[sheet.cell_value(r,c) for c in range(sheet.ncols)] for r in range(sheet.nrows)]\n",
    "    coordinates = np.array(coordinate_array)\n",
    "    rdf.accumulate(fbox, coordinates, coordinates)\n"
   ]
  },
  {
   "cell_type": "code",
   "execution_count": null,
   "metadata": {},
   "outputs": [],
   "source": []
  },
  {
   "cell_type": "code",
   "execution_count": null,
   "metadata": {},
   "outputs": [],
   "source": [
    "# Create RDF object setting max distance (half a box lenght) and bin 'width'\n",
    "# Calculate RDF with box + points\n",
    "rdf.compute(fbox, coordinates, coordinates)\n",
    "# get the center of the histogram bins\n",
    "r = rdf.R\n",
    "# get the value of the histogram bins\n",
    "y = rdf.RDF\n",
    "# plot\n",
    "plt.scatter(r, y)\n",
    "plt.ylabel(\"g(r)\")\n",
    "plt.xlabel(\"r\")\n",
    "plt.xlim(0,2)\n",
    "max_y = max(y)\n",
    "max_r = r[y.argmax()]\n",
    "print(max_r, max_y)"
   ]
  },
  {
   "cell_type": "code",
   "execution_count": null,
   "metadata": {},
   "outputs": [],
   "source": [
    "print(r)\n",
    "print(y)\n"
   ]
  },
  {
   "cell_type": "code",
   "execution_count": null,
   "metadata": {},
   "outputs": [],
   "source": []
  }
 ],
 "metadata": {
  "kernelspec": {
   "display_name": "Python 3",
   "language": "python",
   "name": "python3"
  },
  "language_info": {
   "codemirror_mode": {
    "name": "ipython",
    "version": 3
   },
   "file_extension": ".py",
   "mimetype": "text/x-python",
   "name": "python",
   "nbconvert_exporter": "python",
   "pygments_lexer": "ipython3",
   "version": "3.7.3"
  }
 },
 "nbformat": 4,
 "nbformat_minor": 2
}
